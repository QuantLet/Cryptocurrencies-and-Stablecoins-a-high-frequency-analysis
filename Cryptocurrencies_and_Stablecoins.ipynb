{
 "cells": [
  {
   "cell_type": "markdown",
   "metadata": {},
   "source": [
    "# intraday-project\n",
    "Repository for \"Cryptocurrencies and Stablecoins: a high frequency analysis\"\n",
    "E. Barucci, G. Giuffra, D. Marazzina\n",
    "\n",
    "## Requirements\n",
    "- https://git-lfs.github.com/: since some of the files in the data directory are larger than the 100 MB natively handled by github.\n",
    "- https://www.scala-sbt.org/: to compile the Scala project.\n",
    "- https://spark.apache.org/: given the amount of data it was necessary to use this framework for big data analytics.\n",
    "- In the `python` directory, the file `requirements.txt` contains the dependencies to run the different python scripts.\n",
    "\n",
    "## Structure\n",
    "- `data`: it contains all data and is divided in the following subdirectories:\n",
    "  -  `provider-data`: it contains a small sample of the proprietary data leased from the data provider. We cannot include the whole sample since it will be a breach of contract. In addition, the total amount of data is around 5 TB.\n",
    "  - `processed-data`: Scala and some python scripts write the output of the spark jobs in this directory. Scripts also read from this directory as well since the processing of the data is composed of various steps.\n",
    "  - `clean-time-series`: Scala scripts write to this directory the cleaned time series that is then used by some python scripts for time series analysis.\n",
    "- `emr`: it contains the script to launch the Spark scripts in Amazon EMR (https://aws.amazon.com/emr/), as well as configuration files for the cluster and the jobs to be performed by the cluster.\n",
    "- `python`: it contains all python scripts. Some are Spark scripts and others are scripts to generate tables, figures, and perform time series analysis.\n",
    "- `scripts`: it contains the bash scripts to run the Spark jobs.\n",
    "- `src`: it contains all Scala classes. It follows the structrue required by the `sbt` tool.\n",
    "\n",
    "## Output\n",
    "- Tables 2-7 are obtained with Scala (`src` folder)\n",
    "- Tables 8-13 are obtained with Python (`python` folder)\n",
    "Due to the fact that the folder `provider-data` contains a small sample of the proprietary data leased from the data provider, it is not possible to obtain the same values of the tables in the article."
   ]
  },
  {
   "cell_type": "code",
   "execution_count": null,
   "metadata": {},
   "outputs": [],
   "source": []
  }
 ],
 "metadata": {
  "kernelspec": {
   "display_name": "Python 3",
   "language": "python",
   "name": "python3"
  },
  "language_info": {
   "codemirror_mode": {
    "name": "ipython",
    "version": 3
   },
   "file_extension": ".py",
   "mimetype": "text/x-python",
   "name": "python",
   "nbconvert_exporter": "python",
   "pygments_lexer": "ipython3",
   "version": "3.8.3"
  }
 },
 "nbformat": 4,
 "nbformat_minor": 4
}
